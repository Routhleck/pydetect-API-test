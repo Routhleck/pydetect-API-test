{
 "cells": [
  {
   "cell_type": "code",
   "execution_count": 1,
   "metadata": {},
   "outputs": [
    {
     "name": "stdout",
     "output_type": "stream",
     "text": [
      "17:21:34 开始检测场景\n"
     ]
    },
    {
     "name": "stderr",
     "output_type": "stream",
     "text": [
      "100%|██████████| 66542/66542 [01:47<00:00, 616.34frames/s]\n"
     ]
    },
    {
     "name": "stdout",
     "output_type": "stream",
     "text": [
      "List of scenes obtained:\n",
      "17:23:22 场景检测完成\n",
      "17:23:22 检测修正...\n",
      "17:23:22 去掉开头结尾\n",
      "17:23:22 场景检测完成\n",
      "17:23:22 人声检测优化...\n",
      "17:23:22 视频转音频...\n",
      "MoviePy - Writing audio in temp/audioFile/temp.wav\n"
     ]
    },
    {
     "name": "stderr",
     "output_type": "stream",
     "text": [
      "                                                                        \r"
     ]
    },
    {
     "name": "stdout",
     "output_type": "stream",
     "text": [
      "MoviePy - Done.\n",
      "17:23:37 音频分离...\n",
      "INFO:tensorflow:Apply unet for vocals_spectrogram\n",
      "WARNING:tensorflow:From c:\\Python310\\lib\\site-packages\\keras\\layers\\normalization\\batch_normalization.py:562: _colocate_with (from tensorflow.python.framework.ops) is deprecated and will be removed in a future version.\n",
      "Instructions for updating:\n",
      "Colocations handled automatically by placer.\n",
      "INFO:tensorflow:Apply unet for accompaniment_spectrogram\n",
      "INFO:tensorflow:Restoring parameters from pretrained_models\\2stems\\model\n",
      "17:25:14 音频分析...\n",
      "17:25:14 修正片段\n",
      "[[2435.0, 2507.0], [2719.0, 2816.0], [2819.0, 2862.0], [2944.0, 3096.0], [3103.0, 3211.9999999999995], [3224.0, 3367.0], [3390.0, 3422.0], [3489.0, 3597.9999999999995], [3610.0, 3854.9999999999995], [3865.9999999999995, 3972.9999999999995], [4028.0, 4162.0], [4222.0, 4291.0], [4328.0, 4344.0], [4594.0, 4669.0], [4675.0, 4678.0], [4740.0, 4847.0], [4850.0, 4960.0], [4966.0, 5042.0], [5067.0, 5244.0], [5266.0, 5468.0], [5482.0, 5620.0], [5624.0, 5648.0], [6241.0, 6264.0], [6299.0, 6420.0], [6469.0, 6516.0], [6631.0, 6654.000000000001], [6712.0, 6798.0], [6809.999999999999, 6931.0], [7030.0, 7048.0], [7123.0, 7197.0], [7256.999999999999, 7265.000000000001], [7347.0, 7364.0], [7551.000000000001, 7586.0], [7729.000000000001, 7854.000000000001], [7869.0, 7962.0], [8582.0, 8627.0], [8659.0, 8680.0], [8751.0, 8793.0], [9030.0, 9047.0], [9528.0, 9528.0], [9597.0, 9650.0], [9680.0, 9764.0], [9781.0, 9793.0], [9856.0, 9884.0], [10044.0, 10145.0], [10147.0, 10229.0], [10328.0, 10374.0], [10592.0, 10668.0], [10682.0, 10780.0], [10787.0, 10872.0], [10882.0, 10981.0], [10985.0, 11050.0], [11167.0, 11170.0], [11234.0, 11294.0], [11378.0, 11394.0], [11499.0, 11579.0], [11620.0, 11683.0], [11703.0, 11723.0], [11791.0, 11805.0], [11886.0, 11907.0], [11981.0, 12064.0], [12102.0, 12122.0], [12177.0, 12239.0], [12315.0, 12387.0], [12424.0, 12479.0], [12542.0, 12584.0], [12636.0, 12665.0], [12702.0, 12722.0], [12808.000000000002, 12926.0], [12933.000000000002, 13066.999999999998], [13083.000000000002, 13261.000000000002], [13272.0, 13391.0], [13441.999999999998, 13576.0], [13580.000000000002, 13685.0], [13752.000000000002, 13769.0], [13810.0, 13810.0], [13894.999999999998, 13978.0], [14013.999999999998, 14122.0], [14141.999999999998, 14221.0], [14263.0, 14372.0], [14396.0, 14505.000000000002], [14512.0, 14579.0], [14591.999999999998, 14724.0], [14747.999999999998, 14784.0], [14822.0, 14903.0], [14944.0, 15044.999999999998], [15130.000000000002, 15156.0], [15459.0, 15494.999999999998], [15601.0, 15685.0], [15687.0, 15688.999999999998], [15747.0, 15822.0], [15922.999999999998, 15954.0], [16100.0, 16238.0], [16241.999999999998, 16326.0], [16355.000000000002, 16444.0], [16450.0, 16490.0], [16550.0, 16618.0], [16656.0, 16772.0], [16851.0, 16911.0], [16931.0, 16962.0], [17019.0, 17127.0], [17147.0, 17259.0], [17446.0, 17541.0], [17606.0, 17647.0], [17705.0, 17781.0], [17811.0, 17958.0], [18025.0, 18047.0], [18102.0, 18165.0], [18223.0, 18306.0], [18337.0, 18395.0], [18430.0, 18563.0], [18578.0, 18677.0], [18706.0, 18909.0], [18972.0, 19059.0], [19166.0, 19169.0], [19238.0, 19247.0], [19312.0, 19443.0], [19502.0, 19513.0], [19594.0, 19611.0], [19658.0, 19694.0], [19887.0, 19973.0], [20078.0, 20138.0], [20176.0, 20315.0], [20351.0, 20448.0], [20535.0, 20566.0], [20639.0, 20663.0], [20732.0, 20765.0], [20820.0, 20860.0], [20926.0, 20953.0], [21051.0, 21190.0], [21290.0, 21321.0], [21469.0, 21477.0], [21988.0, 22082.0], [22088.0, 22143.0], [22163.0, 22278.0], [22331.0, 22350.0], [22403.0, 22511.0], [22603.0, 22723.0], [22735.0, 22774.0], [22866.0, 22914.0], [22967.0, 23053.0], [23086.0, 23191.0], [23305.0, 23334.0], [23388.0, 23439.0], [23659.0, 23662.0], [23807.0, 23873.0], [23903.0, 23997.0], [24012.0, 24101.0], [24262.0, 24307.0], [24322.0, 24431.0], [24450.0, 24590.0], [24603.0, 24758.0], [24774.0, 24903.0], [24912.0, 24923.0], [24989.0, 25073.0], [25089.0, 25237.0], [25247.0, 25287.0], [26108.0, 26220.0], [26249.0, 26356.0], [26372.000000000004, 26482.0], [26483.999999999996, 26557.0], [26608.0, 26695.999999999996], [26729.000000000004, 26833.999999999996], [26844.0, 26904.000000000004], [26920.0, 27016.000000000004], [27045.0, 27120.999999999996], [27123.0, 27126.0], [27786.0, 27787.0], [28998.0, 29147.000000000004], [29183.0, 29256.0], [29286.0, 29364.0], [29366.000000000004, 29479.000000000004], [29482.0, 29513.0], [29567.0, 29735.000000000004], [29738.0, 29797.000000000004], [29831.0, 29898.0], [29926.0, 30016.000000000004], [30080.0, 30223.0], [30230.0, 30367.0], [30383.999999999996, 30467.0], [30475.0, 30551.0], [30808.999999999996, 30895.0], [30897.000000000004, 31036.0], [31041.000000000004, 31220.0], [31283.999999999996, 31391.000000000004], [31414.0, 31507.0], [31555.0, 31616.000000000004], [31663.0, 31663.0], [31758.999999999996, 31907.0], [31977.0, 31998.0], [32056.0, 32081.0], [32152.0, 32172.000000000004], [32452.0, 32542.0], [32552.0, 32654.000000000004], [32660.000000000004, 32748.0], [32958.0, 33086.0], [33110.0, 33214.0], [33479.0, 33488.0], [33541.0, 33551.0], [33616.0, 33625.0], [33680.0, 33698.0], [34070.0, 34219.0], [34267.0, 34305.0], [34337.0, 34389.0], [34456.0, 34602.0], [34615.0, 34623.0], [34678.0, 34762.0], [34790.0, 34981.0], [34993.0, 35113.0], [35137.0, 35219.0], [35240.0, 35287.0], [35338.0, 35436.0], [35524.0, 35607.0], [35630.0, 35798.0], [35979.0, 36039.0], [36083.0, 36189.0], [37451.0, 37589.0], [37624.0, 37718.0], [37729.0, 37818.0], [37874.0, 38041.0], [38084.0, 38125.0], [38194.0, 38257.0], [38375.0, 38379.0], [38497.0, 38501.0], [38909.0, 39048.0], [39072.0, 39074.0], [39893.0, 39893.0], [40000.0, 40156.0], [40201.0, 40276.0], [40309.0, 40380.0], [40636.0, 40698.0], [40719.0, 40834.0], [40850.0, 41077.0], [41090.0, 41220.0], [41248.0, 41391.0], [41419.0, 41459.0], [41559.0, 41561.0], [41663.0, 41718.0], [41950.0, 42054.0], [42131.0, 42265.0], [42633.0, 42713.0], [42736.0, 42829.0], [42868.0, 42949.0], [42964.0, 43071.0], [43084.0, 43158.0], [43181.0, 43249.0], [43282.0, 43383.0], [43418.0, 43449.0], [43501.0, 43538.0], [43597.0, 43677.0], [43695.0, 43696.0], [43809.0, 43831.0], [43878.0, 43917.0], [43946.0, 43998.0], [44115.0, 44141.0], [44254.0, 44336.0], [44362.0, 44460.0], [44498.0, 44590.0], [44616.0, 44678.0], [44690.0, 44710.0], [44764.0, 44814.0], [44834.0, 44942.0], [44976.0, 45032.0], [45068.0, 45151.0], [45165.0, 45261.0], [45348.0, 45458.0], [45480.0, 45499.0], [45595.0, 45625.0], [45668.0, 45668.0], [45722.0, 45743.0], [45798.0, 45798.0], [45971.0, 46149.0], [46160.0, 46385.0], [46391.0, 46607.0], [46623.0, 46689.0], [46733.0, 46789.0], [46958.0, 46960.0], [47367.0, 47405.0], [47471.0, 47500.0], [47560.0, 47653.0], [47670.0, 47750.0], [47787.0, 47810.0], [47896.0, 48015.0], [48024.0, 48225.0], [48275.0, 48371.0], [48423.0, 48493.0], [48513.0, 48645.0], [48659.0, 48732.0], [48777.0, 48893.0], [48932.0, 48964.0], [49059.0, 49221.0], [49236.0, 49405.0], [49436.0, 49514.0], [49549.0, 49661.0], [49687.0, 49881.0], [49914.0, 50096.0], [50109.0, 50243.0], [50458.0, 50563.0], [50715.0, 50881.0], [50905.0, 50927.0], [50976.0, 51066.0], [51089.0, 51335.0], [51341.99999999999, 51515.0], [51517.99999999999, 51600.0], [51649.0, 51684.0], [51717.99999999999, 51796.0], [51813.0, 51853.0], [51942.99999999999, 52029.99999999999], [52075.0, 52266.0], [52286.0, 52519.00000000001], [52580.99999999999, 52721.0], [52724.0, 52869.00000000001], [52891.0, 53051.0], [53154.99999999999, 53301.0], [53313.0, 53459.0], [53464.0, 53546.0], [53551.0, 53825.0], [53829.99999999999, 53945.00000000001], [54027.0, 54275.0], [54304.99999999999, 54526.0], [54532.00000000001, 54757.00000000001], [54777.0, 55114.0], [55134.0, 55263.0], [55275.0, 55451.0], [55471.0, 55561.0], [55582.00000000001, 55617.99999999999], [56360.0, 56427.0], [56454.0, 56611.0], [56624.0, 56713.0], [56738.0, 56840.0], [56855.99999999999, 57004.0], [57009.0, 57105.99999999999], [57129.99999999999, 57232.00000000001], [57254.0, 57382.00000000001], [57408.00000000001, 57458.00000000001], [57591.99999999999, 57679.0], [57689.0, 57887.0], [57899.0, 58020.00000000001], [58032.00000000001, 58079.0], [58117.99999999999, 58162.0], [58199.0, 58274.0], [58298.0, 58412.0], [58419.00000000001, 58421.0], [58495.00000000001, 58595.00000000001], [58608.00000000001, 58733.00000000001], [58849.0, 58949.0], [58983.00000000001, 58999.0], [59098.0, 59225.0], [59280.99999999999, 59296.0], [59603.0, 59699.0], [59709.0, 59785.0], [59835.0, 59890.0], [59908.00000000001, 59989.0], [60004.99999999999, 60089.0], [60128.0, 60129.0], [60216.99999999999, 60271.0], [60286.0, 60304.99999999999], [60355.99999999999, 60451.0], [60464.0, 60604.0], [60616.99999999999, 60769.00000000001], [60776.0, 60880.99999999999], [60884.0, 60938.0], [60988.0, 61066.99999999999], [61584.0, 61700.0], [61702.0, 61702.0], [61873.0, 61937.0], [61953.0, 61994.00000000001], [62058.00000000001, 62090.0], [62154.0, 62208.00000000001], [62376.0, 62405.99999999999], [62507.00000000001, 62630.99999999999], [62635.0, 62833.00000000001], [62836.0, 62894.00000000001], [63957.00000000001, 64099.0], [64111.0, 64162.0]]\n",
      "17:25:14 音频优化完成\n",
      "[['00:01:32.02', '00:03:13.22'], ['00:03:13.23', '00:04:41.23'], ['00:04:41.24', '00:06:26.00'], ['00:06:26.01', '00:08:02.14'], ['00:08:02.15', '00:09:34.22'], ['00:09:34.23', '00:11:04.18'], ['00:11:04.19', '00:12:36.09'], ['00:12:36.10', '00:14:07.15'], ['00:14:07.16', '00:15:37.14'], ['00:15:37.15', '00:17:28.20'], ['00:17:28.21', '00:19:25.22'], ['00:19:25.23', '00:20:14.17'], ['00:20:14.18', '00:22:03.11'], ['00:22:03.12', '00:23:24.13'], ['00:23:24.14', '00:25:03.14'], ['00:25:03.15', '00:26:51.01'], ['00:26:51.02', '00:28:28.13'], ['00:28:28.14', '00:29:57.17'], ['00:29:57.18', '00:31:36.05'], ['00:31:36.06', '00:33:06.11'], ['00:33:06.12', '00:34:41.04'], ['00:34:41.05', '00:36:11.00'], ['00:36:11.01', '00:37:44.11'], ['00:37:44.12', '00:39:17.24'], ['00:39:18.00', '00:41:08.00'], ['00:41:08.01', '00:42:43.24'], ['00:42:44.00', '00:42:46.12']]\n",
      "17:25:14 开始切割视频\n",
      "Moviepy - Building video cut_video/32集_0.mp4.\n",
      "MoviePy - Writing audio in 32集_0TEMP_MPY_wvf_snd.mp4\n"
     ]
    },
    {
     "name": "stderr",
     "output_type": "stream",
     "text": [
      "                                                                      \r"
     ]
    },
    {
     "name": "stdout",
     "output_type": "stream",
     "text": [
      "MoviePy - Done.\n",
      "Moviepy - Writing video cut_video/32集_0.mp4\n",
      "\n"
     ]
    },
    {
     "name": "stderr",
     "output_type": "stream",
     "text": [
      "                                                                 \r"
     ]
    },
    {
     "name": "stdout",
     "output_type": "stream",
     "text": [
      "Moviepy - Done !\n",
      "Moviepy - video ready cut_video/32集_0.mp4\n",
      "Moviepy - Building video cut_video/32集_1.mp4.\n",
      "MoviePy - Writing audio in 32集_1TEMP_MPY_wvf_snd.mp4\n"
     ]
    },
    {
     "name": "stderr",
     "output_type": "stream",
     "text": [
      "                                                                      \r"
     ]
    },
    {
     "name": "stdout",
     "output_type": "stream",
     "text": [
      "MoviePy - Done.\n",
      "Moviepy - Writing video cut_video/32集_1.mp4\n",
      "\n"
     ]
    },
    {
     "name": "stderr",
     "output_type": "stream",
     "text": [
      "                                                                 \r"
     ]
    },
    {
     "name": "stdout",
     "output_type": "stream",
     "text": [
      "Moviepy - Done !\n",
      "Moviepy - video ready cut_video/32集_1.mp4\n",
      "Moviepy - Building video cut_video/32集_2.mp4.\n",
      "MoviePy - Writing audio in 32集_2TEMP_MPY_wvf_snd.mp4\n"
     ]
    },
    {
     "name": "stderr",
     "output_type": "stream",
     "text": [
      "                                                                      \r"
     ]
    },
    {
     "name": "stdout",
     "output_type": "stream",
     "text": [
      "MoviePy - Done.\n",
      "Moviepy - Writing video cut_video/32集_2.mp4\n",
      "\n"
     ]
    },
    {
     "name": "stderr",
     "output_type": "stream",
     "text": [
      "                                                                 \r"
     ]
    },
    {
     "name": "stdout",
     "output_type": "stream",
     "text": [
      "Moviepy - Done !\n",
      "Moviepy - video ready cut_video/32集_2.mp4\n",
      "Moviepy - Building video cut_video/32集_3.mp4.\n",
      "MoviePy - Writing audio in 32集_3TEMP_MPY_wvf_snd.mp4\n"
     ]
    },
    {
     "name": "stderr",
     "output_type": "stream",
     "text": [
      "                                                                      \r"
     ]
    },
    {
     "name": "stdout",
     "output_type": "stream",
     "text": [
      "MoviePy - Done.\n",
      "Moviepy - Writing video cut_video/32集_3.mp4\n",
      "\n"
     ]
    },
    {
     "name": "stderr",
     "output_type": "stream",
     "text": [
      "                                                                 \r"
     ]
    },
    {
     "name": "stdout",
     "output_type": "stream",
     "text": [
      "Moviepy - Done !\n",
      "Moviepy - video ready cut_video/32集_3.mp4\n",
      "Moviepy - Building video cut_video/32集_4.mp4.\n",
      "MoviePy - Writing audio in 32集_4TEMP_MPY_wvf_snd.mp4\n"
     ]
    },
    {
     "name": "stderr",
     "output_type": "stream",
     "text": [
      "                                                                      \r"
     ]
    },
    {
     "name": "stdout",
     "output_type": "stream",
     "text": [
      "MoviePy - Done.\n",
      "Moviepy - Writing video cut_video/32集_4.mp4\n",
      "\n"
     ]
    },
    {
     "name": "stderr",
     "output_type": "stream",
     "text": [
      "                                                                 \r"
     ]
    },
    {
     "name": "stdout",
     "output_type": "stream",
     "text": [
      "Moviepy - Done !\n",
      "Moviepy - video ready cut_video/32集_4.mp4\n",
      "Moviepy - Building video cut_video/32集_5.mp4.\n",
      "MoviePy - Writing audio in 32集_5TEMP_MPY_wvf_snd.mp4\n"
     ]
    },
    {
     "name": "stderr",
     "output_type": "stream",
     "text": [
      "                                                                      \r"
     ]
    },
    {
     "name": "stdout",
     "output_type": "stream",
     "text": [
      "MoviePy - Done.\n",
      "Moviepy - Writing video cut_video/32集_5.mp4\n",
      "\n"
     ]
    },
    {
     "name": "stderr",
     "output_type": "stream",
     "text": [
      "                                                                 \r"
     ]
    },
    {
     "name": "stdout",
     "output_type": "stream",
     "text": [
      "Moviepy - Done !\n",
      "Moviepy - video ready cut_video/32集_5.mp4\n",
      "Moviepy - Building video cut_video/32集_6.mp4.\n",
      "MoviePy - Writing audio in 32集_6TEMP_MPY_wvf_snd.mp4\n"
     ]
    },
    {
     "name": "stderr",
     "output_type": "stream",
     "text": [
      "                                                                      \r"
     ]
    },
    {
     "name": "stdout",
     "output_type": "stream",
     "text": [
      "MoviePy - Done.\n",
      "Moviepy - Writing video cut_video/32集_6.mp4\n",
      "\n"
     ]
    },
    {
     "name": "stderr",
     "output_type": "stream",
     "text": [
      "                                                                 \r"
     ]
    },
    {
     "name": "stdout",
     "output_type": "stream",
     "text": [
      "Moviepy - Done !\n",
      "Moviepy - video ready cut_video/32集_6.mp4\n",
      "Moviepy - Building video cut_video/32集_7.mp4.\n",
      "MoviePy - Writing audio in 32集_7TEMP_MPY_wvf_snd.mp4\n"
     ]
    },
    {
     "name": "stderr",
     "output_type": "stream",
     "text": [
      "                                                                      \r"
     ]
    },
    {
     "name": "stdout",
     "output_type": "stream",
     "text": [
      "MoviePy - Done.\n",
      "Moviepy - Writing video cut_video/32集_7.mp4\n",
      "\n"
     ]
    },
    {
     "name": "stderr",
     "output_type": "stream",
     "text": [
      "                                                                 \r"
     ]
    },
    {
     "name": "stdout",
     "output_type": "stream",
     "text": [
      "Moviepy - Done !\n",
      "Moviepy - video ready cut_video/32集_7.mp4\n",
      "Moviepy - Building video cut_video/32集_8.mp4.\n",
      "MoviePy - Writing audio in 32集_8TEMP_MPY_wvf_snd.mp4\n"
     ]
    },
    {
     "name": "stderr",
     "output_type": "stream",
     "text": [
      "                                                                      \r"
     ]
    },
    {
     "name": "stdout",
     "output_type": "stream",
     "text": [
      "MoviePy - Done.\n",
      "Moviepy - Writing video cut_video/32集_8.mp4\n",
      "\n"
     ]
    },
    {
     "name": "stderr",
     "output_type": "stream",
     "text": [
      "                                                                 \r"
     ]
    },
    {
     "name": "stdout",
     "output_type": "stream",
     "text": [
      "Moviepy - Done !\n",
      "Moviepy - video ready cut_video/32集_8.mp4\n",
      "Moviepy - Building video cut_video/32集_9.mp4.\n",
      "MoviePy - Writing audio in 32集_9TEMP_MPY_wvf_snd.mp4\n"
     ]
    },
    {
     "name": "stderr",
     "output_type": "stream",
     "text": [
      "                                                                      \r"
     ]
    },
    {
     "name": "stdout",
     "output_type": "stream",
     "text": [
      "MoviePy - Done.\n",
      "Moviepy - Writing video cut_video/32集_9.mp4\n",
      "\n"
     ]
    },
    {
     "name": "stderr",
     "output_type": "stream",
     "text": [
      "                                                                 \r"
     ]
    },
    {
     "name": "stdout",
     "output_type": "stream",
     "text": [
      "Moviepy - Done !\n",
      "Moviepy - video ready cut_video/32集_9.mp4\n",
      "Moviepy - Building video cut_video/32集_10.mp4.\n",
      "MoviePy - Writing audio in 32集_10TEMP_MPY_wvf_snd.mp4\n"
     ]
    },
    {
     "name": "stderr",
     "output_type": "stream",
     "text": [
      "                                                                      \r"
     ]
    },
    {
     "name": "stdout",
     "output_type": "stream",
     "text": [
      "MoviePy - Done.\n",
      "Moviepy - Writing video cut_video/32集_10.mp4\n",
      "\n"
     ]
    },
    {
     "name": "stderr",
     "output_type": "stream",
     "text": [
      "                                                                 \r"
     ]
    },
    {
     "name": "stdout",
     "output_type": "stream",
     "text": [
      "Moviepy - Done !\n",
      "Moviepy - video ready cut_video/32集_10.mp4\n",
      "Moviepy - Building video cut_video/32集_11.mp4.\n",
      "MoviePy - Writing audio in 32集_11TEMP_MPY_wvf_snd.mp4\n"
     ]
    },
    {
     "name": "stderr",
     "output_type": "stream",
     "text": [
      "                                                                     \r"
     ]
    },
    {
     "name": "stdout",
     "output_type": "stream",
     "text": [
      "MoviePy - Done.\n",
      "Moviepy - Writing video cut_video/32集_11.mp4\n",
      "\n"
     ]
    },
    {
     "name": "stderr",
     "output_type": "stream",
     "text": [
      "                                                                 \r"
     ]
    },
    {
     "name": "stdout",
     "output_type": "stream",
     "text": [
      "Moviepy - Done !\n",
      "Moviepy - video ready cut_video/32集_11.mp4\n",
      "Moviepy - Building video cut_video/32集_12.mp4.\n",
      "MoviePy - Writing audio in 32集_12TEMP_MPY_wvf_snd.mp4\n"
     ]
    },
    {
     "name": "stderr",
     "output_type": "stream",
     "text": [
      "                                                                      \r"
     ]
    },
    {
     "name": "stdout",
     "output_type": "stream",
     "text": [
      "MoviePy - Done.\n",
      "Moviepy - Writing video cut_video/32集_12.mp4\n",
      "\n"
     ]
    },
    {
     "name": "stderr",
     "output_type": "stream",
     "text": [
      "                                                                 \r"
     ]
    },
    {
     "name": "stdout",
     "output_type": "stream",
     "text": [
      "Moviepy - Done !\n",
      "Moviepy - video ready cut_video/32集_12.mp4\n",
      "Moviepy - Building video cut_video/32集_13.mp4.\n",
      "MoviePy - Writing audio in 32集_13TEMP_MPY_wvf_snd.mp4\n"
     ]
    },
    {
     "name": "stderr",
     "output_type": "stream",
     "text": [
      "                                                                      \r"
     ]
    },
    {
     "name": "stdout",
     "output_type": "stream",
     "text": [
      "MoviePy - Done.\n",
      "Moviepy - Writing video cut_video/32集_13.mp4\n",
      "\n"
     ]
    },
    {
     "name": "stderr",
     "output_type": "stream",
     "text": [
      "                                                                 \r"
     ]
    },
    {
     "name": "stdout",
     "output_type": "stream",
     "text": [
      "Moviepy - Done !\n",
      "Moviepy - video ready cut_video/32集_13.mp4\n",
      "Moviepy - Building video cut_video/32集_14.mp4.\n",
      "MoviePy - Writing audio in 32集_14TEMP_MPY_wvf_snd.mp4\n"
     ]
    },
    {
     "name": "stderr",
     "output_type": "stream",
     "text": [
      "                                                                      \r"
     ]
    },
    {
     "name": "stdout",
     "output_type": "stream",
     "text": [
      "MoviePy - Done.\n",
      "Moviepy - Writing video cut_video/32集_14.mp4\n",
      "\n"
     ]
    },
    {
     "name": "stderr",
     "output_type": "stream",
     "text": [
      "                                                                 \r"
     ]
    },
    {
     "name": "stdout",
     "output_type": "stream",
     "text": [
      "Moviepy - Done !\n",
      "Moviepy - video ready cut_video/32集_14.mp4\n",
      "Moviepy - Building video cut_video/32集_15.mp4.\n",
      "MoviePy - Writing audio in 32集_15TEMP_MPY_wvf_snd.mp4\n"
     ]
    },
    {
     "name": "stderr",
     "output_type": "stream",
     "text": [
      "                                                                      \r"
     ]
    },
    {
     "name": "stdout",
     "output_type": "stream",
     "text": [
      "MoviePy - Done.\n",
      "Moviepy - Writing video cut_video/32集_15.mp4\n",
      "\n"
     ]
    },
    {
     "name": "stderr",
     "output_type": "stream",
     "text": [
      "                                                                 \r"
     ]
    },
    {
     "name": "stdout",
     "output_type": "stream",
     "text": [
      "Moviepy - Done !\n",
      "Moviepy - video ready cut_video/32集_15.mp4\n",
      "Moviepy - Building video cut_video/32集_16.mp4.\n",
      "MoviePy - Writing audio in 32集_16TEMP_MPY_wvf_snd.mp4\n"
     ]
    },
    {
     "name": "stderr",
     "output_type": "stream",
     "text": [
      "                                                                      \r"
     ]
    },
    {
     "name": "stdout",
     "output_type": "stream",
     "text": [
      "MoviePy - Done.\n",
      "Moviepy - Writing video cut_video/32集_16.mp4\n",
      "\n"
     ]
    },
    {
     "name": "stderr",
     "output_type": "stream",
     "text": [
      "                                                                 \r"
     ]
    },
    {
     "name": "stdout",
     "output_type": "stream",
     "text": [
      "Moviepy - Done !\n",
      "Moviepy - video ready cut_video/32集_16.mp4\n",
      "Moviepy - Building video cut_video/32集_17.mp4.\n",
      "MoviePy - Writing audio in 32集_17TEMP_MPY_wvf_snd.mp4\n"
     ]
    },
    {
     "name": "stderr",
     "output_type": "stream",
     "text": [
      "                                                                      \r"
     ]
    },
    {
     "name": "stdout",
     "output_type": "stream",
     "text": [
      "MoviePy - Done.\n",
      "Moviepy - Writing video cut_video/32集_17.mp4\n",
      "\n"
     ]
    },
    {
     "name": "stderr",
     "output_type": "stream",
     "text": [
      "                                                                 \r"
     ]
    },
    {
     "name": "stdout",
     "output_type": "stream",
     "text": [
      "Moviepy - Done !\n",
      "Moviepy - video ready cut_video/32集_17.mp4\n",
      "Moviepy - Building video cut_video/32集_18.mp4.\n",
      "MoviePy - Writing audio in 32集_18TEMP_MPY_wvf_snd.mp4\n"
     ]
    },
    {
     "name": "stderr",
     "output_type": "stream",
     "text": [
      "                                                                      \r"
     ]
    },
    {
     "name": "stdout",
     "output_type": "stream",
     "text": [
      "MoviePy - Done.\n",
      "Moviepy - Writing video cut_video/32集_18.mp4\n",
      "\n"
     ]
    },
    {
     "name": "stderr",
     "output_type": "stream",
     "text": [
      "                                                                 \r"
     ]
    },
    {
     "name": "stdout",
     "output_type": "stream",
     "text": [
      "Moviepy - Done !\n",
      "Moviepy - video ready cut_video/32集_18.mp4\n",
      "Moviepy - Building video cut_video/32集_19.mp4.\n",
      "MoviePy - Writing audio in 32集_19TEMP_MPY_wvf_snd.mp4\n"
     ]
    },
    {
     "name": "stderr",
     "output_type": "stream",
     "text": [
      "                                                                      \r"
     ]
    },
    {
     "name": "stdout",
     "output_type": "stream",
     "text": [
      "MoviePy - Done.\n",
      "Moviepy - Writing video cut_video/32集_19.mp4\n",
      "\n"
     ]
    },
    {
     "name": "stderr",
     "output_type": "stream",
     "text": [
      "                                                                 \r"
     ]
    },
    {
     "name": "stdout",
     "output_type": "stream",
     "text": [
      "Moviepy - Done !\n",
      "Moviepy - video ready cut_video/32集_19.mp4\n",
      "Moviepy - Building video cut_video/32集_20.mp4.\n",
      "MoviePy - Writing audio in 32集_20TEMP_MPY_wvf_snd.mp4\n"
     ]
    },
    {
     "name": "stderr",
     "output_type": "stream",
     "text": [
      "                                                                      \r"
     ]
    },
    {
     "name": "stdout",
     "output_type": "stream",
     "text": [
      "MoviePy - Done.\n",
      "Moviepy - Writing video cut_video/32集_20.mp4\n",
      "\n"
     ]
    },
    {
     "name": "stderr",
     "output_type": "stream",
     "text": [
      "                                                                 \r"
     ]
    },
    {
     "name": "stdout",
     "output_type": "stream",
     "text": [
      "Moviepy - Done !\n",
      "Moviepy - video ready cut_video/32集_20.mp4\n",
      "Moviepy - Building video cut_video/32集_21.mp4.\n",
      "MoviePy - Writing audio in 32集_21TEMP_MPY_wvf_snd.mp4\n"
     ]
    },
    {
     "name": "stderr",
     "output_type": "stream",
     "text": [
      "                                                                      \r"
     ]
    },
    {
     "name": "stdout",
     "output_type": "stream",
     "text": [
      "MoviePy - Done.\n",
      "Moviepy - Writing video cut_video/32集_21.mp4\n",
      "\n"
     ]
    },
    {
     "name": "stderr",
     "output_type": "stream",
     "text": [
      "                                                                 \r"
     ]
    },
    {
     "name": "stdout",
     "output_type": "stream",
     "text": [
      "Moviepy - Done !\n",
      "Moviepy - video ready cut_video/32集_21.mp4\n",
      "Moviepy - Building video cut_video/32集_22.mp4.\n",
      "MoviePy - Writing audio in 32集_22TEMP_MPY_wvf_snd.mp4\n"
     ]
    },
    {
     "name": "stderr",
     "output_type": "stream",
     "text": [
      "                                                                      \r"
     ]
    },
    {
     "name": "stdout",
     "output_type": "stream",
     "text": [
      "MoviePy - Done.\n",
      "Moviepy - Writing video cut_video/32集_22.mp4\n",
      "\n"
     ]
    },
    {
     "name": "stderr",
     "output_type": "stream",
     "text": [
      "                                                                 \r"
     ]
    },
    {
     "name": "stdout",
     "output_type": "stream",
     "text": [
      "Moviepy - Done !\n",
      "Moviepy - video ready cut_video/32集_22.mp4\n",
      "Moviepy - Building video cut_video/32集_23.mp4.\n",
      "MoviePy - Writing audio in 32集_23TEMP_MPY_wvf_snd.mp4\n"
     ]
    },
    {
     "name": "stderr",
     "output_type": "stream",
     "text": [
      "                                                                      \r"
     ]
    },
    {
     "name": "stdout",
     "output_type": "stream",
     "text": [
      "MoviePy - Done.\n",
      "Moviepy - Writing video cut_video/32集_23.mp4\n",
      "\n"
     ]
    },
    {
     "name": "stderr",
     "output_type": "stream",
     "text": [
      "                                                                 \r"
     ]
    },
    {
     "name": "stdout",
     "output_type": "stream",
     "text": [
      "Moviepy - Done !\n",
      "Moviepy - video ready cut_video/32集_23.mp4\n",
      "Moviepy - Building video cut_video/32集_24.mp4.\n",
      "MoviePy - Writing audio in 32集_24TEMP_MPY_wvf_snd.mp4\n"
     ]
    },
    {
     "name": "stderr",
     "output_type": "stream",
     "text": [
      "                                                                      \r"
     ]
    },
    {
     "name": "stdout",
     "output_type": "stream",
     "text": [
      "MoviePy - Done.\n",
      "Moviepy - Writing video cut_video/32集_24.mp4\n",
      "\n"
     ]
    },
    {
     "name": "stderr",
     "output_type": "stream",
     "text": [
      "                                                                 \r"
     ]
    },
    {
     "name": "stdout",
     "output_type": "stream",
     "text": [
      "Moviepy - Done !\n",
      "Moviepy - video ready cut_video/32集_24.mp4\n",
      "Moviepy - Building video cut_video/32集_25.mp4.\n",
      "MoviePy - Writing audio in 32集_25TEMP_MPY_wvf_snd.mp4\n"
     ]
    },
    {
     "name": "stderr",
     "output_type": "stream",
     "text": [
      "                                                                      \r"
     ]
    },
    {
     "name": "stdout",
     "output_type": "stream",
     "text": [
      "MoviePy - Done.\n",
      "Moviepy - Writing video cut_video/32集_25.mp4\n",
      "\n"
     ]
    },
    {
     "name": "stderr",
     "output_type": "stream",
     "text": [
      "                                                                 \r"
     ]
    },
    {
     "name": "stdout",
     "output_type": "stream",
     "text": [
      "Moviepy - Done !\n",
      "Moviepy - video ready cut_video/32集_25.mp4\n",
      "Moviepy - Building video cut_video/32集_26.mp4.\n",
      "MoviePy - Writing audio in 32集_26TEMP_MPY_wvf_snd.mp4\n"
     ]
    },
    {
     "name": "stderr",
     "output_type": "stream",
     "text": [
      "                                                                 \r"
     ]
    },
    {
     "name": "stdout",
     "output_type": "stream",
     "text": [
      "MoviePy - Done.\n",
      "Moviepy - Writing video cut_video/32集_26.mp4\n",
      "\n"
     ]
    },
    {
     "name": "stderr",
     "output_type": "stream",
     "text": [
      "                                                             \r"
     ]
    },
    {
     "name": "stdout",
     "output_type": "stream",
     "text": [
      "Moviepy - Done !\n",
      "Moviepy - video ready cut_video/32集_26.mp4\n",
      "17:35:54 视频处理完成\n"
     ]
    }
   ],
   "source": [
    "from scene_cut import scene_cut_single\n",
    "src_path = 'test/32集.mp4'\n",
    "target_path = 'cut_video'\n",
    "scene_cut_single(src_path, target_path, start_time=92, end_time=92)"
   ]
  }
 ],
 "metadata": {
  "kernelspec": {
   "display_name": "Python 3.10.5 64-bit",
   "language": "python",
   "name": "python3"
  },
  "language_info": {
   "codemirror_mode": {
    "name": "ipython",
    "version": 3
   },
   "file_extension": ".py",
   "mimetype": "text/x-python",
   "name": "python",
   "nbconvert_exporter": "python",
   "pygments_lexer": "ipython3",
   "version": "3.10.5"
  },
  "orig_nbformat": 4,
  "vscode": {
   "interpreter": {
    "hash": "369f2c481f4da34e4445cda3fffd2e751bd1c4d706f27375911949ba6bb62e1c"
   }
  }
 },
 "nbformat": 4,
 "nbformat_minor": 2
}
